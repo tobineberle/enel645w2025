{
 "cells": [
  {
   "cell_type": "markdown",
   "metadata": {},
   "source": [
    "# ENEL 645 Assignment 2\n",
    "\n",
    "Tobin Eberle\n",
    "\n",
    "Tom Wilson\n",
    "\n",
    "Jeff Wheeler\n",
    "\n",
    "Ryan Baker"
   ]
  },
  {
   "cell_type": "markdown",
   "metadata": {},
   "source": [
    "### Ensure Virtual Environment is Activated"
   ]
  },
  {
   "cell_type": "code",
   "execution_count": 6,
   "metadata": {},
   "outputs": [
    {
     "name": "stdout",
     "output_type": "stream",
     "text": [
      "/Users/ryanb/miniforge3/envs/pytorch/bin/python\n"
     ]
    }
   ],
   "source": [
    "!which python"
   ]
  },
  {
   "cell_type": "markdown",
   "metadata": {},
   "source": [
    "Environment is shown in `../envs/pytorch/..`, indicating that the `pytorch` virtual environment has been activated."
   ]
  },
  {
   "cell_type": "markdown",
   "metadata": {},
   "source": [
    "### Imports"
   ]
  },
  {
   "cell_type": "code",
   "execution_count": 7,
   "metadata": {},
   "outputs": [],
   "source": [
    "import numpy as np\n",
    "import os\n",
    "import re\n",
    "import time\n",
    "import torch\n",
    "import torchvision # type: ignore\n",
    "import torch.nn as nn\n",
    "import torch.nn.functional as F\n",
    "import torch.optim as optim\n",
    "from torch.utils.data import DataLoader, Dataset\n",
    "from torchvision.models import resnet18 # type: ignore # pretrained model\n",
    "from torchvision import models, transforms, datasets # type: ignore\n",
    "from transformers import DistilBertModel, DistilBertTokenizer # type: ignore\n",
    "\n",
    "from garbage_classifier_fusion import FusionNetwork, FusionDataSet,predict"
   ]
  },
  {
   "cell_type": "markdown",
   "metadata": {},
   "source": [
    "### Define Constants\n",
    "Note: Local copy of Test data was used to avoid TALC connection requirement"
   ]
  },
  {
   "cell_type": "code",
   "execution_count": 8,
   "metadata": {},
   "outputs": [],
   "source": [
    "TEST_PATH = \"./CVPR_2024_dataset_Test\"\n",
    "NUM_EPOCHS = 10\n",
    "BATCH_SIZE = 24\n",
    "NUM_FUSION_FEATURES = 100\n",
    "WEIGHT_DECAY = 0.001\n",
    "LEARNING_RATE = 0.001\n",
    "DROPOUT = 0.3\n",
    "MAX_LENGTH = 200\n"
   ]
  },
  {
   "cell_type": "markdown",
   "metadata": {},
   "source": [
    "### Variable & Model Instantiations"
   ]
  },
  {
   "cell_type": "code",
   "execution_count": 9,
   "metadata": {},
   "outputs": [],
   "source": [
    "transform = transforms.Compose([\n",
    "    transforms.Resize((224, 224)),\n",
    "    transforms.ToTensor(),\n",
    "    transforms.Normalize([0.485, 0.456, 0.406], [0.229, 0.224, 0.225])\n",
    "])\n",
    "\n",
    "tokenizer = DistilBertTokenizer.from_pretrained('distilbert-base-uncased')\n",
    "test_dataset = FusionDataSet(transform, tokenizer, TEST_PATH, MAX_LENGTH)\n",
    "test_loader = DataLoader(test_dataset, shuffle = False)\n",
    "imageModel = resnet18(weights='ResNet18_Weights.DEFAULT')\n",
    "textModel = DistilBertModel.from_pretrained('distilbert-base-uncased')\n",
    "model = FusionNetwork(imageModel, textModel, 4, NUM_FUSION_FEATURES, DROPOUT)\n",
    "device = torch.device('cuda' if torch.cuda.is_available() else 'cpu')"
   ]
  },
  {
   "cell_type": "markdown",
   "metadata": {},
   "source": [
    "### Load Weights\n",
    "Including `map_location` is necessary as the notebook was run on a cpu device but trained on a CUDA device."
   ]
  },
  {
   "cell_type": "code",
   "execution_count": 10,
   "metadata": {},
   "outputs": [
    {
     "data": {
      "text/plain": [
       "<All keys matched successfully>"
      ]
     },
     "execution_count": 10,
     "metadata": {},
     "output_type": "execute_result"
    }
   ],
   "source": [
    "model.load_state_dict(torch.load(\"best_fusion_model.pth\", map_location=device))\n"
   ]
  },
  {
   "cell_type": "code",
   "execution_count": 11,
   "metadata": {},
   "outputs": [
    {
     "name": "stdout",
     "output_type": "stream",
     "text": [
      "Test Accuracy: 0.06%\n"
     ]
    }
   ],
   "source": [
    "test_predictions, test_classes = predict(model, test_loader, device)"
   ]
  },
  {
   "cell_type": "code",
   "execution_count": 12,
   "metadata": {},
   "outputs": [
    {
     "data": {
      "text/plain": [
       "{np.int64(1), np.int64(2), np.int64(3), np.int64(4)}"
      ]
     },
     "execution_count": 12,
     "metadata": {},
     "output_type": "execute_result"
    }
   ],
   "source": [
    "set(test_classes)"
   ]
  },
  {
   "cell_type": "code",
   "execution_count": 13,
   "metadata": {},
   "outputs": [
    {
     "data": {
      "text/plain": [
       "{np.int64(0), np.int64(2), np.int64(3)}"
      ]
     },
     "execution_count": 13,
     "metadata": {},
     "output_type": "execute_result"
    }
   ],
   "source": [
    "set(test_predictions)"
   ]
  },
  {
   "cell_type": "code",
   "execution_count": 14,
   "metadata": {},
   "outputs": [],
   "source": [
    "# Count number of predicted true values\n",
    "equal_count = 0\n",
    "for pred, class_ in zip(test_predictions, test_classes):\n",
    "    if pred == class_:\n",
    "        equal_count += 1"
   ]
  },
  {
   "cell_type": "code",
   "execution_count": 15,
   "metadata": {},
   "outputs": [
    {
     "data": {
      "text/plain": [
       "2"
      ]
     },
     "execution_count": 15,
     "metadata": {},
     "output_type": "execute_result"
    }
   ],
   "source": [
    "equal_count"
   ]
  }
 ],
 "metadata": {
  "kernelspec": {
   "display_name": "pytorch",
   "language": "python",
   "name": "python3"
  },
  "language_info": {
   "codemirror_mode": {
    "name": "ipython",
    "version": 3
   },
   "file_extension": ".py",
   "mimetype": "text/x-python",
   "name": "python",
   "nbconvert_exporter": "python",
   "pygments_lexer": "ipython3",
   "version": "3.13.2"
  }
 },
 "nbformat": 4,
 "nbformat_minor": 4
}
